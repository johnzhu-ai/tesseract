{
 "cells": [
  {
   "cell_type": "code",
   "execution_count": 1,
   "id": "d9f776ba",
   "metadata": {},
   "outputs": [],
   "source": [
    "import openai"
   ]
  },
  {
   "cell_type": "code",
   "execution_count": 2,
   "id": "11dac5b6",
   "metadata": {},
   "outputs": [],
   "source": [
    "openai.api_key = \"##################\""
   ]
  },
  {
   "cell_type": "code",
   "execution_count": 3,
   "id": "13c452f8",
   "metadata": {},
   "outputs": [],
   "source": [
    "model_engine = \"text-davinci-002\"\n",
    "#model_engine = \"code-davinci-002\""
   ]
  },
  {
   "cell_type": "code",
   "execution_count": 20,
   "id": "d2d83453",
   "metadata": {},
   "outputs": [
    {
     "data": {
      "text/plain": [
       "'Yes, I am here.'"
      ]
     },
     "execution_count": 20,
     "metadata": {},
     "output_type": "execute_result"
    }
   ],
   "source": [
    "prompt = \"Testing, are you there?\"\n",
    "completions = openai.Completion.create(\n",
    "    engine=model_engine,\n",
    "    prompt=prompt,\n",
    "    max_tokens=2048,\n",
    "    n=1,\n",
    "    stop=None,\n",
    "    temperature=0.7,\n",
    ")\n",
    "message = completions.choices[0].text.strip()\n",
    "message"
   ]
  },
  {
   "cell_type": "code",
   "execution_count": 5,
   "id": "c1634870",
   "metadata": {},
   "outputs": [
    {
     "data": {
      "text/plain": [
       "<OpenAIObject text_completion id=cmpl-6tR6oC4rNdmu1a5PcnPWjGDNN70j8 at 0x19a6c58f360> JSON: {\n",
       "  \"choices\": [\n",
       "    {\n",
       "      \"finish_reason\": \"stop\",\n",
       "      \"index\": 0,\n",
       "      \"logprobs\": null,\n",
       "      \"text\": \"\\n\\nI can help you with anything you need help with.\"\n",
       "    }\n",
       "  ],\n",
       "  \"created\": 1678670266,\n",
       "  \"id\": \"cmpl-6tR6oC4rNdmu1a5PcnPWjGDNN70j8\",\n",
       "  \"model\": \"text-davinci-002\",\n",
       "  \"object\": \"text_completion\",\n",
       "  \"usage\": {\n",
       "    \"completion_tokens\": 13,\n",
       "    \"prompt_tokens\": 16,\n",
       "    \"total_tokens\": 29\n",
       "  }\n",
       "}"
      ]
     },
     "execution_count": 5,
     "metadata": {},
     "output_type": "execute_result"
    }
   ],
   "source": [
    "completions"
   ]
  },
  {
   "cell_type": "code",
   "execution_count": null,
   "id": "f65fd1f7",
   "metadata": {},
   "outputs": [
    {
     "name": "stdout",
     "output_type": "stream",
     "text": [
      "input the code to send to ChatGPT\n"
     ]
    }
   ],
   "source": [
    "print(\"input the code to send to ChatGPT\")\n",
    "code_input = input()"
   ]
  },
  {
   "cell_type": "code",
   "execution_count": 7,
   "id": "ea03b318",
   "metadata": {},
   "outputs": [
    {
     "data": {
      "text/plain": [
       "\"explain the relationships in the following code in a mermaid diagram ---  PROCEDURE find_nearest_pop   (     pt_country_code          IN   alc_city.country_code%TYPE,     pt_service_id            IN   alc_availability_matrix.service_id%TYPE,     pt_bw_kbps               IN   alc_availability_matrix.bw_kbps%TYPE,     pt_equant_network        IN   alc_availability_matrix.eq%TYPE,     pt_customer_city_id      IN   alc_city.city_id%TYPE,     pt_pop_city_id           OUT  alc_city.city_id%TYPE,     pt_shortest_dist         OUT  NUMBER   )   IS     ln_temp_dis              NUMBER;     ln_count                 NUMBER;     customer_ln_lat          NUMBER;     customer_ln_long         NUMBER;      CURSOR am (pt_country_code      alc_availability_matrix.country_code%TYPE,                pt_service_id        alc_availability_matrix.service_id%TYPE,                pt_bw_kbps           alc_availability_matrix.bw_kbps%TYPE,                pt_equant_network    alc_availability_matrix.eq%TYPE)     IS       SELECT b.latitude as lat, b.longitude as lon, b.city_id as city_id         FROM alc_availability_matrix a, alc_city b        WHERE a.country_code     = pt_country_code          AND a.service_id       = pt_service_id          AND a.bw_kbps          = pt_bw_kbps          AND a.eq               = pt_equant_network          AND a.am_alc_active    = 'Y'          AND a.city_id          = b.city_id;    BEGIN      -- Set Customer-Location's LAT/LONG     SELECT latitude, longitude INTO customer_ln_lat, customer_ln_long FROM alc_city      WHERE country_code = pt_country_code        AND city_id             = pt_customer_city_id;      -- Begin to the nearest POP     pt_shortest_dist := 100000000.0;      FOR am_rec in am (pt_country_code, pt_service_id, pt_bw_kbps, pt_equant_network) LOOP EXIT WHEN am%NOTFOUND;       -- calculate the distance       ln_temp_dis := calc_distance(am_rec.lat,                                    am_rec.lon,                                    customer_ln_lat,                                    customer_ln_long);       IF ln_temp_dis < pt_shortest_dist THEN           pt_shortest_dist := ln_temp_dis;           pt_pop_city_id   := am_rec.city_id;       END IF;     END LOOP; -- end of am_rec LOOP  \\tIF pt_shortest_dist = 100000000.0 THEN \\t   pt_shortest_dist := -1; \\tEND IF; --    dbms_output.put_line('   -- END OF find-nearest-pop: ' || pt_pop_city_id || ' distance ' || pt_shortest_dist);   EXCEPTION   WHEN OTHERS THEN          ROLLBACK;          RAISE_APPLICATION_ERROR(                 -21003,                 'WebALC PRICING-ENGINE Oracle Error: '||SQLERRM          );   END find_nearest_pop;\""
      ]
     },
     "execution_count": 7,
     "metadata": {},
     "output_type": "execute_result"
    }
   ],
   "source": [
    "msg_prefix1 = \"explain the relationships in the following code in a mermaid diagram ---\"\n",
    "complete_prompt1 = msg_prefix1 + code_input\n",
    "complete_prompt1"
   ]
  },
  {
   "cell_type": "code",
   "execution_count": 21,
   "id": "a049d8f0",
   "metadata": {},
   "outputs": [
    {
     "data": {
      "text/plain": [
       "<OpenAIObject text_completion id=cmpl-6tRStTr66sXv3YfTi5uJOpd5iHeP6 at 0x19a6c5d7310> JSON: {\n",
       "  \"choices\": [\n",
       "    {\n",
       "      \"finish_reason\": \"stop\",\n",
       "      \"index\": 0,\n",
       "      \"logprobs\": null,\n",
       "      \"text\": \"\\n\\nPlease refer to the mermaid diagram in the course notes.\"\n",
       "    },\n",
       "    {\n",
       "      \"finish_reason\": \"stop\",\n",
       "      \"index\": 1,\n",
       "      \"logprobs\": null,\n",
       "      \"text\": \"\\n\\n![find_nearest_pop mermaid diagram](find_nearest_pop.png)\"\n",
       "    },\n",
       "    {\n",
       "      \"finish_reason\": \"stop\",\n",
       "      \"index\": 2,\n",
       "      \"logprobs\": null,\n",
       "      \"text\": \"\\n\\n```\\ngraph LR\\n  find_nearest_pop[PROCEDURE find_nearest_pop] --> pt_country_code[pt_country_code]\\n  find_nearest_pop --> pt_service_id[pt_service_id]\\n  find_nearest_pop --> pt_bw_kbps[pt_bw_kbps]\\n  find_nearest_pop --> pt_equant_network[pt_equant_network]\\n  find_nearest_pop --> pt_customer_city_id[pt_customer_city_id]\\n  find_nearest_pop --> pt_pop_city_id[pt_pop_city_id]\\n  find_nearest_pop --> pt_shortest_dist[pt_shortest_dist]\\n  find_nearest_pop --> ln_temp_dis[ln_temp_dis]\\n  find_nearest_pop --> ln_count[ln_count]\\n  find_nearest_pop --> customer_ln_lat[customer_ln_lat]\\n  find_nearest_pop --> customer_ln_long[customer_ln_long]\\n  find_nearest_pop --> am[CURSOR am]\\n  find_nearest_pop --> am_rec[am_rec]\\n  am --> pt_country_code\\n  am --> pt_service_id\\n  am --> pt_bw_kbps\\n  am --> pt_equant_network\\n  find_nearest_pop --> calc_distance[calc_distance]\\n  find_nearest_pop --> pt_shortest_dist\\n  find_nearest_pop --> pt_pop_city_id\\n  find_nearest_pop --> pt_shortest_dist\\n  find_nearest_pop --> pt_pop_city_id\\n  pt_shortest_dist --> ln_temp_dis\\n  pt_shortest_dist --> pt_shortest_dist\\n  pt_shortest_dist --> pt_pop_city_id\\n  pt_pop_city_id --> ln_temp_dis\\n  pt_pop_city_id --> pt_pop_city_id\\n  ln_temp_dis --> ln_temp_dis\\n  ln_temp_dis --> pt_shortest_dist\\n  ln_temp_dis --> pt_pop_city_id\\n  pt_shortest_dist --> pt_shortest_dist\\n  pt_pop_city_id --> pt_pop_city_id\"\n",
       "    }\n",
       "  ],\n",
       "  \"created\": 1678671635,\n",
       "  \"id\": \"cmpl-6tRStTr66sXv3YfTi5uJOpd5iHeP6\",\n",
       "  \"model\": \"text-davinci-002\",\n",
       "  \"object\": \"text_completion\",\n",
       "  \"usage\": {\n",
       "    \"completion_tokens\": 615,\n",
       "    \"prompt_tokens\": 824,\n",
       "    \"total_tokens\": 1439\n",
       "  }\n",
       "}"
      ]
     },
     "execution_count": 21,
     "metadata": {},
     "output_type": "execute_result"
    }
   ],
   "source": [
    "completions = openai.Completion.create(\n",
    "    engine=model_engine,\n",
    "    prompt=complete_prompt1,\n",
    "    max_tokens=3100,    ## original 2048\n",
    "    n=3,                ## original 1, changed to 3, \n",
    "    stop=None,\n",
    "    temperature=0.6,\n",
    ")\n",
    "completions"
   ]
  },
  {
   "cell_type": "code",
   "execution_count": 22,
   "id": "2536c65d",
   "metadata": {},
   "outputs": [
    {
     "data": {
      "text/plain": [
       "'\\n\\n```\\ngraph LR\\n  find_nearest_pop[PROCEDURE find_nearest_pop] --> pt_country_code[pt_country_code]\\n  find_nearest_pop --> pt_service_id[pt_service_id]\\n  find_nearest_pop --> pt_bw_kbps[pt_bw_kbps]\\n  find_nearest_pop --> pt_equant_network[pt_equant_network]\\n  find_nearest_pop --> pt_customer_city_id[pt_customer_city_id]\\n  find_nearest_pop --> pt_pop_city_id[pt_pop_city_id]\\n  find_nearest_pop --> pt_shortest_dist[pt_shortest_dist]\\n  find_nearest_pop --> ln_temp_dis[ln_temp_dis]\\n  find_nearest_pop --> ln_count[ln_count]\\n  find_nearest_pop --> customer_ln_lat[customer_ln_lat]\\n  find_nearest_pop --> customer_ln_long[customer_ln_long]\\n  find_nearest_pop --> am[CURSOR am]\\n  find_nearest_pop --> am_rec[am_rec]\\n  am --> pt_country_code\\n  am --> pt_service_id\\n  am --> pt_bw_kbps\\n  am --> pt_equant_network\\n  find_nearest_pop --> calc_distance[calc_distance]\\n  find_nearest_pop --> pt_shortest_dist\\n  find_nearest_pop --> pt_pop_city_id\\n  find_nearest_pop --> pt_shortest_dist\\n  find_nearest_pop --> pt_pop_city_id\\n  pt_shortest_dist --> ln_temp_dis\\n  pt_shortest_dist --> pt_shortest_dist\\n  pt_shortest_dist --> pt_pop_city_id\\n  pt_pop_city_id --> ln_temp_dis\\n  pt_pop_city_id --> pt_pop_city_id\\n  ln_temp_dis --> ln_temp_dis\\n  ln_temp_dis --> pt_shortest_dist\\n  ln_temp_dis --> pt_pop_city_id\\n  pt_shortest_dist --> pt_shortest_dist\\n  pt_pop_city_id --> pt_pop_city_id'"
      ]
     },
     "execution_count": 22,
     "metadata": {},
     "output_type": "execute_result"
    }
   ],
   "source": [
    "return_text = completions.choices[2].text\n",
    "return_text"
   ]
  },
  {
   "cell_type": "code",
   "execution_count": 23,
   "id": "3226dce4",
   "metadata": {},
   "outputs": [
    {
     "data": {
      "text/plain": [
       "'```\\ngraph LR\\n  find_nearest_pop[PROCEDURE find_nearest_pop] --> pt_country_code[pt_country_code]\\n  find_nearest_pop --> pt_service_id[pt_service_id]\\n  find_nearest_pop --> pt_bw_kbps[pt_bw_kbps]\\n  find_nearest_pop --> pt_equant_network[pt_equant_network]\\n  find_nearest_pop --> pt_customer_city_id[pt_customer_city_id]\\n  find_nearest_pop --> pt_pop_city_id[pt_pop_city_id]\\n  find_nearest_pop --> pt_shortest_dist[pt_shortest_dist]\\n  find_nearest_pop --> ln_temp_dis[ln_temp_dis]\\n  find_nearest_pop --> ln_count[ln_count]\\n  find_nearest_pop --> customer_ln_lat[customer_ln_lat]\\n  find_nearest_pop --> customer_ln_long[customer_ln_long]\\n  find_nearest_pop --> am[CURSOR am]\\n  find_nearest_pop --> am_rec[am_rec]\\n  am --> pt_country_code\\n  am --> pt_service_id\\n  am --> pt_bw_kbps\\n  am --> pt_equant_network\\n  find_nearest_pop --> calc_distance[calc_distance]\\n  find_nearest_pop --> pt_shortest_dist\\n  find_nearest_pop --> pt_pop_city_id\\n  find_nearest_pop --> pt_shortest_dist\\n  find_nearest_pop --> pt_pop_city_id\\n  pt_shortest_dist --> ln_temp_dis\\n  pt_shortest_dist --> pt_shortest_dist\\n  pt_shortest_dist --> pt_pop_city_id\\n  pt_pop_city_id --> ln_temp_dis\\n  pt_pop_city_id --> pt_pop_city_id\\n  ln_temp_dis --> ln_temp_dis\\n  ln_temp_dis --> pt_shortest_dist\\n  ln_temp_dis --> pt_pop_city_id\\n  pt_shortest_dist --> pt_shortest_dist\\n  pt_pop_city_id --> pt_pop_city_id'"
      ]
     },
     "execution_count": 23,
     "metadata": {},
     "output_type": "execute_result"
    }
   ],
   "source": [
    "strip_tags = return_text.strip()\n",
    "strip_tags"
   ]
  },
  {
   "cell_type": "code",
   "execution_count": null,
   "id": "cbd52977",
   "metadata": {},
   "outputs": [],
   "source": []
  }
 ],
 "metadata": {
  "kernelspec": {
   "display_name": "Python 3 (ipykernel)",
   "language": "python",
   "name": "python3"
  },
  "language_info": {
   "codemirror_mode": {
    "name": "ipython",
    "version": 3
   },
   "file_extension": ".py",
   "mimetype": "text/x-python",
   "name": "python",
   "nbconvert_exporter": "python",
   "pygments_lexer": "ipython3",
   "version": "3.9.7"
  }
 },
 "nbformat": 4,
 "nbformat_minor": 5
}
